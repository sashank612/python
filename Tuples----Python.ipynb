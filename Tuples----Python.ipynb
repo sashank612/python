{
 "cells": [
  {
   "cell_type": "markdown",
   "metadata": {},
   "source": [
    "# Tuples\n",
    "It is a seq of set of objs like a list\n",
    "\n",
    "The difference b/w list and tuples are:\n",
    "\n",
    "tuples cant be changed unlike lists\n",
    "\n",
    "List uses square brackets[] to hold obj but tuples use paranthesis()\n",
    "Useful wwhen given i/p is only for reading purpose"
   ]
  },
  {
   "cell_type": "code",
   "execution_count": 9,
   "metadata": {},
   "outputs": [
    {
     "name": "stdout",
     "output_type": "stream",
     "text": [
      "t1[0]=  python\n",
      "t1[2]=  1989\n",
      "t1[-1]=  AI\n",
      "t1[1:4]=  ('programming', 1989, 2019)\n",
      "t1[2:-1]=  (1989, 2019, 'machine learning')\n"
     ]
    }
   ],
   "source": [
    "t1=(\"python\",\"programming\",1989,2019,\"machine learning\",\"AI\")\n",
    "print(\"t1[0]= \",t1[0])\n",
    "print(\"t1[2]= \",t1[2])\n",
    "print(\"t1[-1]= \",t1[-1])\n",
    "print(\"t1[1:4]= \",t1[1:4])\n",
    "print(\"t1[2:-1]= \",t1[2:-1])"
   ]
  },
  {
   "cell_type": "code",
   "execution_count": 12,
   "metadata": {},
   "outputs": [
    {
     "name": "stdout",
     "output_type": "stream",
     "text": [
      "('python', 'programming', 1989, 2019, 'machine learning', 'AI')\n",
      "(1, 2, 3, 4, 5, 6, 7, 8, 9)\n",
      "('python', 'programming', 1989, 2019, 'machine learning', 'AI', 1, 2, 3, 4, 5, 6, 7, 8, 9)\n"
     ]
    }
   ],
   "source": [
    "t1=(\"python\",\"programming\",1989,2019,\"machine learning\",\"AI\")\n",
    "t2=(1,2,3,4,5,6,7,8,9)\n",
    "print(t1)\n",
    "print(t2)\n",
    "t3=t1+t2;\n",
    "print(t3)"
   ]
  },
  {
   "cell_type": "markdown",
   "metadata": {},
   "source": [
    "# Tuple Methods\n",
    "1.len(tple)----length of tuple<br>\n",
    "2.max(tple)----returns max value from tuple<br>\n",
    "3.min(tple)----returns min value from tuple<br>\n",
    "4.cmp(tple)----returns 1 if both are same else returns-1<br>\n",
    "5.tuple----converts list to tuple"
   ]
  },
  {
   "cell_type": "code",
   "execution_count": 4,
   "metadata": {},
   "outputs": [
    {
     "name": "stdout",
     "output_type": "stream",
     "text": [
      "6\n"
     ]
    }
   ],
   "source": [
    "t1=(\"python\",\"programming\",1989,2019,\"machine learning\",\"AI\")\n",
    "print(len(t1))"
   ]
  },
  {
   "cell_type": "code",
   "execution_count": 10,
   "metadata": {},
   "outputs": [
    {
     "name": "stdout",
     "output_type": "stream",
     "text": [
      "9\n",
      "9\n",
      "1\n"
     ]
    }
   ],
   "source": [
    "t2=(1,2,3,4,5,6,7,8,9)\n",
    "print(len(t2))\n",
    "print(max(t2))\n",
    "print(min(t2))"
   ]
  },
  {
   "cell_type": "code",
   "execution_count": 1,
   "metadata": {},
   "outputs": [
    {
     "name": "stdout",
     "output_type": "stream",
     "text": [
      "[0, 1, 2, 3, 4, 5]\n",
      "(0, 1, 2, 3, 4, 5)\n"
     ]
    }
   ],
   "source": [
    "t1=[0,1,2,3,4,5]\n",
    "print(t1)\n",
    "t=tuple(t1)\n",
    "print(t)\n"
   ]
  },
  {
   "cell_type": "markdown",
   "metadata": {},
   "source": [
    "# Python- Dictonary"
   ]
  },
  {
   "cell_type": "code",
   "execution_count": 4,
   "metadata": {},
   "outputs": [
    {
     "name": "stdout",
     "output_type": "stream",
     "text": [
      "user1[Name]=  Mani\n",
      "user1[Age]=  19\n",
      "user1[EmailID]=  mani@gmail.com\n",
      "user1[Mobile Number]=  9876543210\n",
      "user1[Address]=  Hyderabad\n"
     ]
    }
   ],
   "source": [
    "user1={'Name':'Mani','Age':19,'EmailID':'mani@gmail.com','Mobile Number':'9876543210'}\n",
    "print(\"user1[Name]= \",user1['Name'])\n",
    "print(\"user1[Age]= \",user1['Age'])\n",
    "print(\"user1[EmailID]= \",user1['EmailID'])\n",
    "print(\"user1[Mobile Number]= \",user1['Mobile Number'])\n",
    "user1['Address']='Hyderabad'\n",
    "print(\"user1[Address]= \",user1['Address'])\n"
   ]
  },
  {
   "cell_type": "code",
   "execution_count": 9,
   "metadata": {},
   "outputs": [
    {
     "name": "stdout",
     "output_type": "stream",
     "text": [
      "{'Name': 'Mani', 'Age': 19, 'Mobile Number': '9876543210'}\n",
      "{}\n"
     ]
    }
   ],
   "source": [
    "user1={'Name':'Mani','Age':19,'EmailID':'mani@gmail.com','Mobile Number':'9876543210'}\n",
    "del user1['EmailID'];\n",
    "print(user1)\n",
    "user1.clear()\n",
    "print(user1)"
   ]
  },
  {
   "cell_type": "markdown",
   "metadata": {},
   "source": [
    "# Methods of dictionary order\n",
    "1.len(dicobj)----------------returns length<br>\n",
    "2.str(dicobj)----------------returns the equ string to dicobj<br>\n",
    "3.Copy-------------------copies data from one dicobj to another dicobj<br>\n",
    "4.items()---------------------returns alist of dic(key,value)<br>"
   ]
  },
  {
   "cell_type": "code",
   "execution_count": 13,
   "metadata": {},
   "outputs": [
    {
     "name": "stdout",
     "output_type": "stream",
     "text": [
      "4\n",
      "5\n"
     ]
    }
   ],
   "source": [
    "user1={'Name':'Mani','Age':19,'EmailID':'mani@gmail.com','Mobile Number':'9876543210'}\n",
    "print(len(user1))\n",
    "user1['Address']='Hyderabad'\n",
    "print(len(user1))"
   ]
  },
  {
   "cell_type": "code",
   "execution_count": 14,
   "metadata": {},
   "outputs": [
    {
     "name": "stdout",
     "output_type": "stream",
     "text": [
      "{'Name': 'Mani', 'Age': 19, 'EmailID': 'mani@gmail.com', 'Mobile Number': '9876543210'}\n"
     ]
    }
   ],
   "source": [
    "user1={'Name':'Mani','Age':19,'EmailID':'mani@gmail.com','Mobile Number':'9876543210'}\n",
    "print(str(user1))"
   ]
  },
  {
   "cell_type": "code",
   "execution_count": 16,
   "metadata": {},
   "outputs": [
    {
     "name": "stdout",
     "output_type": "stream",
     "text": [
      "{'Name': 'Mani', 'Age': 19, 'EmailID': 'mani@gmail.com', 'Mobile Number': '9876543210'}\n",
      "{'Name': 'Mani', 'Age': 19, 'EmailID': 'mani@gmail.com', 'Mobile Number': '9876543210'}\n",
      "{'Name': 'Mani', 'Age': 19, 'EmailID': 'mani@gmail.com', 'Mobile Number': '9876543210', 'Address': 'Hyderabad'}\n",
      "{'Name': 'Mani', 'Age': 19, 'EmailID': 'mani@gmail.com', 'Mobile Number': '9876543210'}\n"
     ]
    }
   ],
   "source": [
    "user1={'Name':'Mani','Age':19,'EmailID':'mani@gmail.com','Mobile Number':'9876543210'}\n",
    "user2=user1.copy()\n",
    "print(user1)\n",
    "print(user2)\n",
    "user1['Address']='Hyderabad'\n",
    "print(user1)\n",
    "print(user2)"
   ]
  },
  {
   "cell_type": "code",
   "execution_count": 17,
   "metadata": {},
   "outputs": [
    {
     "name": "stdout",
     "output_type": "stream",
     "text": [
      "dict_items([('Name', 'Mani'), ('Age', 19), ('EmailID', 'mani@gmail.com'), ('Mobile Number', '9876543210')])\n"
     ]
    }
   ],
   "source": [
    "user1={'Name':'Mani','Age':19,'EmailID':'mani@gmail.com','Mobile Number':'9876543210'}\n",
    "print(user1.items())"
   ]
  },
  {
   "cell_type": "code",
   "execution_count": 18,
   "metadata": {},
   "outputs": [
    {
     "name": "stdout",
     "output_type": "stream",
     "text": [
      "dict_values(['Mani', 19, 'mani@gmail.com', '9876543210'])\n"
     ]
    }
   ],
   "source": [
    "user1={'Name':'Mani','Age':19,'EmailID':'mani@gmail.com','Mobile Number':'9876543210'}\n",
    "print(user1.values())"
   ]
  },
  {
   "cell_type": "code",
   "execution_count": 20,
   "metadata": {},
   "outputs": [
    {
     "name": "stdout",
     "output_type": "stream",
     "text": [
      "dict_values(['Mani', 19, 'mani@gmail.com', '9876543210'])\n",
      "dict_values(['Mani', 19, 'mani@gmail.com', '9876543210'])\n"
     ]
    }
   ],
   "source": [
    "user1={'Name':'Mani','Age':19,'EmailID':'mani@gmail.com','Mobile Number':'9876543210'}\n",
    "user2=user1.copy()\n",
    "print(user1.values())\n",
    "print(user1.values())"
   ]
  },
  {
   "cell_type": "markdown",
   "metadata": {},
   "source": [
    "# String Formatting\n",
    "%s %d"
   ]
  },
  {
   "cell_type": "code",
   "execution_count": 6,
   "metadata": {},
   "outputs": [
    {
     "name": "stdout",
     "output_type": "stream",
     "text": [
      "python programming\n"
     ]
    }
   ],
   "source": [
    "lst=['python','programming']\n",
    "print(\"%s %s\"%(lst[0],lst[1]))"
   ]
  },
  {
   "cell_type": "code",
   "execution_count": 7,
   "metadata": {},
   "outputs": [
    {
     "name": "stdout",
     "output_type": "stream",
     "text": [
      "python programming\n"
     ]
    }
   ],
   "source": [
    "lst=['python','programming']       # format method\n",
    "print(\"{0} {1}\".format(lst[0],lst[1]))"
   ]
  },
  {
   "cell_type": "code",
   "execution_count": 1,
   "metadata": {},
   "outputs": [
    {
     "name": "stdout",
     "output_type": "stream",
     "text": [
      "1 2 3 4\n"
     ]
    }
   ],
   "source": [
    "lst=[1,2,3,4]\n",
    "print(\"%d %d %d %d\"%(lst[0],lst[1],lst[2],lst[3]))"
   ]
  },
  {
   "cell_type": "code",
   "execution_count": 3,
   "metadata": {},
   "outputs": [
    {
     "name": "stdout",
     "output_type": "stream",
     "text": [
      "value at :1 value at :2\n",
      "value at :3 value at :4\n"
     ]
    }
   ],
   "source": [
    "lst=[1,2,3,4]\n",
    "print(\"value at :{0} value at :{1}\".format(lst[0],lst[1]))\n",
    "print(\"value at :{0} value at :{1}\".format(lst[2],lst[3]))"
   ]
  },
  {
   "cell_type": "markdown",
   "metadata": {},
   "source": [
    "# Contact Application\n",
    "\n",
    "1.Add new contact<br>\n",
    "2.Search for contact<br>\n",
    "3.List of all contacts<br>\n",
    "  3.1 Name1 - Phone1<br>\n",
    "  3.2 Name2 - Phone2<br>\n",
    "  3.3 Importing new contacts<br>\n",
    "  3.4 Merge to existing copntacts<br>\n",
    "4.Remove contact<br>\n",
    "5.Modify contact<br>"
   ]
  },
  {
   "cell_type": "code",
   "execution_count": 1,
   "metadata": {},
   "outputs": [
    {
     "name": "stdout",
     "output_type": "stream",
     "text": [
      "contact Mani added \n",
      "contact anant added \n",
      "contact Mani already exists\n"
     ]
    }
   ],
   "source": [
    "contact={}\n",
    "def addContact(name,phone):\n",
    "    #verify that the contact does not already  exists\n",
    "    if name not in contact:\n",
    "        contact[name]=phone;\n",
    "        print(\"contact %s added \"% name)\n",
    "    else:\n",
    "        print(\"contact %s already exists\" % name)\n",
    "    return\n",
    "addContact(\"Mani\",9876543210)\n",
    "addContact(\"anant\",8765432109)\n",
    "addContact(\"Mani\",9876543210)"
   ]
  },
  {
   "cell_type": "code",
   "execution_count": 2,
   "metadata": {},
   "outputs": [
    {
     "name": "stdout",
     "output_type": "stream",
     "text": [
      "Anant doesnt exist \n",
      "Manikumar doesnt exist \n",
      "qwerty doesnt exist \n"
     ]
    }
   ],
   "source": [
    "# search for a particular contact from contacts list\n",
    "\n",
    "def searchContact(name):\n",
    "    if name in contact:\n",
    "        print(name, \": \",contact[name])\n",
    "    else:\n",
    "        print(\"%s doesnt exist \" %name)\n",
    "    return\n",
    "searchContact(\"Anant\")\n",
    "searchContact(\"Manikumar\")\n",
    "searchContact(\"qwerty\")"
   ]
  },
  {
   "cell_type": "code",
   "execution_count": 3,
   "metadata": {},
   "outputs": [
    {
     "name": "stdout",
     "output_type": "stream",
     "text": [
      "{'Mani': 9876543210, 'anant': 8765432109}\n"
     ]
    }
   ],
   "source": [
    "\n",
    "# New Contacts is given as a dictionary\n",
    "print(contact)\n"
   ]
  },
  {
   "cell_type": "code",
   "execution_count": 4,
   "metadata": {},
   "outputs": [
    {
     "name": "stdout",
     "output_type": "stream",
     "text": [
      "2 Contacts added succesfully\n"
     ]
    }
   ],
   "source": [
    "# New Contacts is given as a dictionary\n",
    "# Merge new contact with existing contact list\n",
    "def importContact(newContacts):\n",
    "    contact.update(newContacts)\n",
    "    print(len(newContacts.keys()),\"Contacts added succesfully\")\n",
    "    return\n",
    "newContacts={'Abc':123456789,'yui':987654321}\n",
    "importContact(newContacts)"
   ]
  },
  {
   "cell_type": "code",
   "execution_count": 5,
   "metadata": {},
   "outputs": [
    {
     "name": "stdout",
     "output_type": "stream",
     "text": [
      "{'Mani': 9876543210, 'anant': 8765432109, 'Abc': 123456789, 'yui': 987654321}\n"
     ]
    }
   ],
   "source": [
    "\n",
    "# New Contacts is given as a dictionary\n",
    "print(contact)\n"
   ]
  },
  {
   "cell_type": "code",
   "execution_count": 6,
   "metadata": {},
   "outputs": [
    {
     "name": "stdout",
     "output_type": "stream",
     "text": [
      "xyz : is not in list\n",
      "Abc : is deleted\n"
     ]
    }
   ],
   "source": [
    "# Delete a contact from Contacts list\n",
    "def deleteContact(name):\n",
    "    if name in contact:\n",
    "        del contact[name]\n",
    "        print(name,\": is deleted\")\n",
    "    else:\n",
    "        print(name,\": is not in list\")\n",
    "        \n",
    "    return\n",
    "deleteContact(\"xyz\")\n",
    "deleteContact(\"Abc\")"
   ]
  },
  {
   "cell_type": "code",
   "execution_count": 7,
   "metadata": {},
   "outputs": [
    {
     "name": "stdout",
     "output_type": "stream",
     "text": [
      "{'Mani': 9876543210, 'anant': 8765432109, 'yui': 987654321}\n"
     ]
    }
   ],
   "source": [
    "\n",
    "# New Contacts is given as a dictionary\n",
    "print(contact)"
   ]
  },
  {
   "cell_type": "code",
   "execution_count": 13,
   "metadata": {},
   "outputs": [
    {
     "name": "stdout",
     "output_type": "stream",
     "text": [
      "Mani updated with new contact number\n"
     ]
    }
   ],
   "source": [
    "def updateContact(name,phone):\n",
    "    if name in contact:\n",
    "        contact[name]=phone;\n",
    "        print(name,\"updated with new contact number\")\n",
    "    else:\n",
    "        print(name,\"not exists in contacts\")\n",
    "    return\n",
    "updateContact(\"Mani\",8877665544)"
   ]
  },
  {
   "cell_type": "code",
   "execution_count": 14,
   "metadata": {},
   "outputs": [
    {
     "name": "stdout",
     "output_type": "stream",
     "text": [
      "{'Mani': 8877665544, 'anant': 8765432109, 'yui': 987654321}\n"
     ]
    }
   ],
   "source": [
    "\n",
    "# New Contacts is given as a dictionary\n",
    "print(contact)"
   ]
  },
  {
   "cell_type": "markdown",
   "metadata": {},
   "source": [
    "# Packages and Modules\n",
    "\n",
    "**Packages**:- Collection of Modules(Python file .py)\n",
    "\n",
    "**Sub Packages**:- Its part of main package\n",
    "\n",
    "**Module**:- A single Python file contains set of operations(functions)\n",
    "\n",
    "   *Package --> Sub-Package --> Modules --> Functions*\n",
    "\n"
   ]
  },
  {
   "cell_type": "code",
   "execution_count": 5,
   "metadata": {},
   "outputs": [
    {
     "data": {
      "text/plain": [
       "123"
      ]
     },
     "execution_count": 5,
     "metadata": {},
     "output_type": "execute_result"
    }
   ],
   "source": [
    "from math import floor as f1\n",
    "f1(123.456)"
   ]
  },
  {
   "cell_type": "code",
   "execution_count": 7,
   "metadata": {},
   "outputs": [
    {
     "data": {
      "text/plain": [
       "120"
      ]
     },
     "execution_count": 7,
     "metadata": {},
     "output_type": "execute_result"
    }
   ],
   "source": [
    "from math import factorial as fact\n",
    "fact(5)"
   ]
  },
  {
   "cell_type": "code",
   "execution_count": 9,
   "metadata": {},
   "outputs": [
    {
     "data": {
      "text/plain": [
       "120"
      ]
     },
     "execution_count": 9,
     "metadata": {},
     "output_type": "execute_result"
    }
   ],
   "source": [
    "import math\n",
    "math.factorial(5)"
   ]
  },
  {
   "cell_type": "code",
   "execution_count": 1,
   "metadata": {},
   "outputs": [
    {
     "name": "stdout",
     "output_type": "stream",
     "text": [
      "199 527 419 300 50 347 314 380 211 242 "
     ]
    }
   ],
   "source": [
    "\n",
    "# generate the random numbers between two limits\n",
    "import random\n",
    "def generateRandomNumbers(n,lb,ub):\n",
    "    for i in range(0,n):\n",
    "        print(random.randint(lb,ub),end=\" \")\n",
    "    return\n",
    "generateRandomNumbers(10,23,560)"
   ]
  },
  {
   "cell_type": "code",
   "execution_count": 2,
   "metadata": {},
   "outputs": [
    {
     "name": "stdout",
     "output_type": "stream",
     "text": [
      "['john', 'peter']\n"
     ]
    }
   ],
   "source": [
    "\n",
    "d = {'john':40, 'peter':45}\n",
    "print(list(d.keys()))"
   ]
  },
  {
   "cell_type": "code",
   "execution_count": 3,
   "metadata": {},
   "outputs": [],
   "source": [
    "# use math package---- extraxt minimum of 10 funct\n",
    "# use random package--- extract mim of 10 functions"
   ]
  },
  {
   "cell_type": "code",
   "execution_count": 4,
   "metadata": {},
   "outputs": [
    {
     "name": "stdout",
     "output_type": "stream",
     "text": [
      "Natural logarithm of 14 is : 2.6390573296152584\n",
      "The gcd of 60 and 48 is : 12\n",
      "4.0\n",
      "3.0\n"
     ]
    }
   ],
   "source": [
    "import math\n",
    "print (\"Natural logarithm of 14 is : \", end=\"\") \n",
    "print (math.log(14)) \n",
    "\n",
    "  #gcd \n",
    "print (\"The gcd of 60 and 48 is : \",end=\"\") \n",
    "print (math.gcd(60,48)) \n",
    "\n",
    "\n",
    "# fmod\n",
    "Tup = (15, 22, -2, -40 ) \n",
    "print(math.fmod(4, 5)) \n",
    "print(math.fmod(43.50, 4.5))"
   ]
  },
  {
   "cell_type": "code",
   "execution_count": 5,
   "metadata": {},
   "outputs": [
    {
     "name": "stdout",
     "output_type": "stream",
     "text": [
      "120\n",
      "123\n"
     ]
    }
   ],
   "source": [
    "\n",
    "import math\n",
    "print(math.factorial(5))\n",
    "  \n",
    "from math import floor as f1\n",
    "print(f1(123.456))"
   ]
  },
  {
   "cell_type": "code",
   "execution_count": 6,
   "metadata": {},
   "outputs": [
    {
     "name": "stdout",
     "output_type": "stream",
     "text": [
      "[81, 88, 12, 70, 46, 25, 8, 41, 49, 19]\n",
      "[0.9557820149598406, 0.36685437867758997, 0.33553690771687317, 0.191996324809528, 0.4071565258121965, 0.4140540684034537, 0.1287135437554333, 0.6926258398240129, 0.5570320860588195, 0.226074454538721]\n",
      "[81, 41, 46, 25, 70, 12, 88, 8, 49, 19]\n",
      "8.11428375997243\n",
      "None\n",
      "19\n"
     ]
    }
   ],
   "source": [
    "from random import *\n",
    "lt,lq,lw,le=[],[],[],[]\n",
    "for i in range(10):\n",
    "    lt.append(randint(1,100))\n",
    "    lq.append(random())\n",
    "print(lt)\n",
    "print(lq)\n",
    "shuffle(lt)\n",
    "print(lt)\n",
    "k=uniform(5,10)\n",
    "print(k)\n",
    "z=seed(k)\n",
    "print(z)\n",
    "print(choice(lt))"
   ]
  },
  {
   "cell_type": "code",
   "execution_count": null,
   "metadata": {},
   "outputs": [],
   "source": []
  }
 ],
 "metadata": {
  "kernelspec": {
   "display_name": "Python 3",
   "language": "python",
   "name": "python3"
  },
  "language_info": {
   "codemirror_mode": {
    "name": "ipython",
    "version": 3
   },
   "file_extension": ".py",
   "mimetype": "text/x-python",
   "name": "python",
   "nbconvert_exporter": "python",
   "pygments_lexer": "ipython3",
   "version": "3.7.3"
  }
 },
 "nbformat": 4,
 "nbformat_minor": 2
}
