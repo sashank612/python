{
 "cells": [
  {
   "cell_type": "markdown",
   "metadata": {},
   "source": [
    "# File Handling in Python\n",
    "\n",
    "\n",
    "...\n",
    "File:- Document containg information residing on doc,pdf,text,csv files etc...\n",
    "\n",
    "\n",
    "File I/O : input and output\n",
    "           Keyboard as input\n",
    "           screen as output\n",
    "            \n",
    "            operations to be done-----> Read/Write\n",
    "            \n",
    "            Methods\n",
    "            \n",
    "            open()-- open file\n",
    "            open(filename,\"mode of file\")\n",
    "            \n",
    "            close()--close file \n",
    "-------\n",
    "\n",
    "#\n",
    "\n",
    "\"r\" --- opens file for reading\n",
    "\n",
    "\"w\" --- open the file writing. If file is not present it creates a file and writes data if already existing it overwrites data\n",
    "\n",
    "\"a\" --- it creates file if not exists and stores data but if it already exists it writes text at end of file"
   ]
  },
  {
   "cell_type": "code",
   "execution_count": 3,
   "metadata": {},
   "outputs": [
    {
     "name": "stdout",
     "output_type": "stream",
     "text": [
      "File is created and Data is written\n"
     ]
    }
   ],
   "source": [
    "#Function to create file and write some data\n",
    "\n",
    "def createFile(filename):\n",
    "    f=open(filename,\"w\")\n",
    "    for i in range(10):\n",
    "        f.write(\"this is %d line\\n\"%i)\n",
    "    print(\"File is created and Data is written\")\n",
    "    f.close()    \n",
    "    return\n",
    "createFile(\"file.txt\")"
   ]
  },
  {
   "cell_type": "code",
   "execution_count": 10,
   "metadata": {},
   "outputs": [
    {
     "name": "stdout",
     "output_type": "stream",
     "text": [
      "this is 0 line\n",
      "this is 1 line\n",
      "this is 2 line\n",
      "this is 3 line\n",
      "this is 4 line\n",
      "this is 5 line\n",
      "this is 6 line\n",
      "this is 7 line\n",
      "this is 8 line\n",
      "this is 9 line\n",
      "\n"
     ]
    }
   ],
   "source": [
    "#Function to read file\n",
    "def readFile(filename):\n",
    "    f=open(filename,\"r\")\n",
    "    if f.mode==\"r\":\n",
    "        x=f.read()\n",
    "        print(x)\n",
    "    f.close()    \n",
    "    return\n",
    "readFile(\"file.txt\")\n"
   ]
  },
  {
   "cell_type": "code",
   "execution_count": 11,
   "metadata": {},
   "outputs": [
    {
     "name": "stdout",
     "output_type": "stream",
     "text": [
      "File is created and Data is written\n"
     ]
    }
   ],
   "source": [
    "\n",
    "def createFile(filename):\n",
    "    f=open(filename,\"w\")\n",
    "    for i in range(10):\n",
    "        f.write(\"Test %d line \\n\"%i)\n",
    "    print(\"File is created and Data is written\")\n",
    "    f.close()    \n",
    "    return\n",
    "createFile(\"file.txt\")"
   ]
  },
  {
   "cell_type": "code",
   "execution_count": 18,
   "metadata": {},
   "outputs": [],
   "source": [
    "# Data to append\n",
    "# Function to append data to existing file\n",
    "\n",
    "def appendData(filename):\n",
    "    f=open(filename,\"a\")\n",
    "    f.write(\"New line 1\\n\")\n",
    "    f.write(\"New line 2\")\n",
    "    return\n",
    "\n",
    "appendData(\"file.txt\")"
   ]
  },
  {
   "cell_type": "code",
   "execution_count": 3,
   "metadata": {},
   "outputs": [
    {
     "name": "stdout",
     "output_type": "stream",
     "text": [
      "10\n"
     ]
    }
   ],
   "source": [
    "#Word count using file i/o in python\n",
    "def DataAnalysisWordCount(filename,word):\n",
    "    f=open(filename,\"r\")\n",
    "    if f.mode=='r':\n",
    "        x=f.read()\n",
    "        lst=x.split()\n",
    "    cnt=lst.count(word)\n",
    "    print(cnt)\n",
    "    return\n",
    "DataAnalysisWordCount(\"file.txt\",\"Test\")"
   ]
  },
  {
   "cell_type": "code",
   "execution_count": 5,
   "metadata": {},
   "outputs": [
    {
     "name": "stdout",
     "output_type": "stream",
     "text": [
      "151\n"
     ]
    }
   ],
   "source": [
    "# fUNCTION TO count characters in the file\n",
    "def countCharacter(filename):\n",
    "    f=open(filename,\"r\")\n",
    "    if f.mode=='r':\n",
    "        x=f.read()\n",
    "        lst=list(x)\n",
    "        \n",
    "    return len(lst)\n",
    "print(countCharacter(\"file.txt\"))"
   ]
  },
  {
   "cell_type": "code",
   "execution_count": 6,
   "metadata": {},
   "outputs": [
    {
     "name": "stdout",
     "output_type": "stream",
     "text": [
      "12\n"
     ]
    }
   ],
   "source": [
    "# Function to count the upper case character from given file\n",
    "\n",
    "def countCharacter(filename):\n",
    "    c=0\n",
    "    f=open(filename,\"r\")\n",
    "    if f.mode=='r':\n",
    "        x=f.read()\n",
    "        lst=list(x)\n",
    "        for i in lst:\n",
    "            if(i.isupper()):\n",
    "                c=c+1;\n",
    "    return c\n",
    "print(countCharacter(\"file.txt\"))\n"
   ]
  },
  {
   "cell_type": "code",
   "execution_count": 7,
   "metadata": {},
   "outputs": [
    {
     "name": "stdout",
     "output_type": "stream",
     "text": [
      "Enter file name: file.txt\n",
      "Number of lines:\n",
      "12\n"
     ]
    }
   ],
   "source": [
    "# Function to count lines in given file\n",
    "\n",
    "fname = input(\"Enter file name: \")\n",
    "num_lines = 0\n",
    "with open(fname, 'r') as f:\n",
    "    for line in f:\n",
    "        num_lines += 1\n",
    "print(\"Number of lines:\")\n",
    "print(num_lines)"
   ]
  },
  {
   "cell_type": "code",
   "execution_count": 8,
   "metadata": {},
   "outputs": [
    {
     "name": "stdout",
     "output_type": "stream",
     "text": [
      "12\n"
     ]
    }
   ],
   "source": [
    "# Function to count lines in given file\n",
    "def countCharacter(filename):\n",
    "    c=0\n",
    "    f=open(filename,\"r\")\n",
    "    if f.mode=='r':\n",
    "        x=f.read()\n",
    "        lst=x.split('\\n')\n",
    "    return len(lst)\n",
    "print(countCharacter(\"file.txt\"))"
   ]
  },
  {
   "cell_type": "markdown",
   "metadata": {},
   "source": [
    "# Regular Expressions\n",
    "\n",
    "Used for certain pattern matching<br>\n",
    " Symbolic Notation<br>\n",
    "    *Pattern(RE) represents the set of values in a given pattern\n",
    "    \n",
    "*[0-9] --> any digit\n",
    "\n",
    "*[a-z] --> any lower case chara\n",
    "\n",
    "*[A-Z] --> any upper case chara\n",
    "\n",
    "*^[0-9]{1}$ --> any single digit number\n",
    "\n",
    "  * ^--> ^ symbol for start of RE\n",
    "  \n",
    "  * $--> $ symbol for end of RE \n",
    " \n",
    "*^[0-9]{3}$ --> ANY THREE DIGIT NUMBER\n",
    "\n",
    "*^[range]{n}$ --> any n digit/letters\n",
    "\n",
    "*^[a-zA-Z]{n}$\n",
    "\n",
    "Indian Mobile Numbers\n",
    "\n",
    "[+][9][1][6-9][0-9]  ---->    +917023425143\n",
    "\n",
    "\n",
    "[0][6-9][0-9]        ---->      0731083973\n",
    "\n",
    "[6-9][0-9]           ---->       732456789\n",
    "\n"
   ]
  },
  {
   "cell_type": "code",
   "execution_count": 11,
   "metadata": {},
   "outputs": [
    {
     "name": "stdout",
     "output_type": "stream",
     "text": [
      "True\n"
     ]
    }
   ],
   "source": [
    "import re\n",
    "def phoneNumberVariable(phone):\n",
    "    pattern='^[6-9][0-9]{9}$'\n",
    "    phone=str(phone)\n",
    "    if re.match(pattern,phone):\n",
    "        return True\n",
    "    return False\n",
    "print(phoneNumberVariable(7032653823))"
   ]
  },
  {
   "cell_type": "code",
   "execution_count": 20,
   "metadata": {},
   "outputs": [
    {
     "name": "stdout",
     "output_type": "stream",
     "text": [
      "True\n",
      "True\n",
      "True\n"
     ]
    }
   ],
   "source": [
    "import re\n",
    "def phoneNumberVariable(phone):\n",
    "    pattern='^[6-9][0-9]{9}$|^[0][6-9][0-9]{9}$|^[+][9][1][6-9][0-9]{9}$'\n",
    "    phone=str(phone)\n",
    "    if re.match(pattern,phone):\n",
    "        return True\n",
    "    return False\n",
    "print(phoneNumberVariable(\"+917032653823\"))\n",
    "print(phoneNumberVariable(\"08712345674\"))\n",
    "print(phoneNumberVariable(\"8712345674\"))"
   ]
  },
  {
   "cell_type": "code",
   "execution_count": 23,
   "metadata": {},
   "outputs": [
    {
     "name": "stdout",
     "output_type": "stream",
     "text": [
      "True\n",
      "False\n"
     ]
    }
   ],
   "source": [
    "\n",
    "#RE--Validation of Roll Number\n",
    "###152U1A0501\n",
    "\n",
    "import re\n",
    "def validateRollNumber(number):\n",
    "    number=str(number)\n",
    "    pattern= \"^[1][5][2][U][1][A][0][1-9][0-6][0-9]$\";\n",
    "    if re.match(pattern,number):\n",
    "        return True\n",
    "    return False\n",
    "print( validateRollNumber(\"152U1A0555\"))\n",
    "print( validateRollNumber(\"152U1A0485\"))"
   ]
  },
  {
   "cell_type": "code",
   "execution_count": 24,
   "metadata": {},
   "outputs": [
    {
     "name": "stdout",
     "output_type": "stream",
     "text": [
      "True\n",
      "False\n",
      "False\n",
      "False\n"
     ]
    }
   ],
   "source": [
    "\n",
    "# Validation for EmailID Username@DomainName.extension\n",
    "def validateEmailID(email):\n",
    "    pattern=\"^[0-9a-z][0-9a-z_.]{5,14}[0-9a-z][@][a-z0-9]{3,18}[.][a-z]{2,4}$\"\n",
    "    if re.match(pattern,email):\n",
    "        return True\n",
    "    return False\n",
    "print(validateEmailID(\"anil.1889@gmail.com\"))\n",
    "print(validateEmailID(\"$anil.1889@gmail.com\"))\n",
    "\n",
    "#Regular Expression--Password\n",
    "#Parameters:[6-15]\n",
    "#Accept lower case, uppercase, spl symbols(@,$,#,!)\n",
    "\n",
    "#expression for password\n",
    "#'^[6-15][@][#][!]'\n",
    "import re\n",
    "def validatepass(password):\n",
    "    pattern='^[A-Za-z0-9@#!]{6-15}$'\n",
    "    if re.match(pattern,password):\n",
    "        return True\n",
    "    return False \n",
    "print(validatepass('s123@#!'))\n",
    "print(validatepass('sahi1233AS123@'))"
   ]
  },
  {
   "cell_type": "code",
   "execution_count": 22,
   "metadata": {},
   "outputs": [],
   "source": [
    "# 1. File on local machine\n",
    "# 2. Write data on File\n",
    "# 3. Count of lower charas\n",
    "# 4. count of digits\n",
    "# 5. Count of Spl charas\n",
    "# 6. File with name,EmailID,Mobile Number and validate those\n",
    "\n"
   ]
  },
  {
   "cell_type": "code",
   "execution_count": 28,
   "metadata": {},
   "outputs": [
    {
     "name": "stdout",
     "output_type": "stream",
     "text": [
      "File is created and Data is written\n"
     ]
    }
   ],
   "source": [
    "#Function to create file and write some data\n",
    "\n",
    "def createFile(filename):\n",
    "    f=open(filename,\"w\")\n",
    "    f.write(\"\"\"Kon-chika! \n",
    "Rikoyamasu!\n",
    "Yousora!!\n",
    "Ohanamaru!\n",
    "Rubymasu!\n",
    "Yohane des!\n",
    "Shiny!\n",
    "Hagu shiyo!\n",
    "Buu buu desu wa!!\"\"\")\n",
    "    print(\"File is created and Data is written\")\n",
    "    f.close()    \n",
    "    return\n",
    "createFile(\"Aqours.txt\")"
   ]
  },
  {
   "cell_type": "code",
   "execution_count": 29,
   "metadata": {},
   "outputs": [
    {
     "name": "stdout",
     "output_type": "stream",
     "text": [
      "68\n"
     ]
    }
   ],
   "source": [
    "# Function to count the lower case character from given file\n",
    "\n",
    "def countCharacter(filename):\n",
    "    c=0\n",
    "    f=open(filename,\"r\")\n",
    "    if f.mode=='r':\n",
    "        x=f.read()\n",
    "        lst=list(x)\n",
    "        for i in lst:\n",
    "            if(i.islower()):\n",
    "                c=c+1;\n",
    "    return c\n",
    "print(countCharacter(\"Aqours.txt\"))"
   ]
  },
  {
   "cell_type": "code",
   "execution_count": 30,
   "metadata": {},
   "outputs": [
    {
     "name": "stdout",
     "output_type": "stream",
     "text": [
      "0\n"
     ]
    }
   ],
   "source": [
    "# Function to count the number of digits from given file\n",
    "\n",
    "def countCharacter(filename):\n",
    "    c=0\n",
    "    f=open(filename,\"r\")\n",
    "    if f.mode=='r':\n",
    "        x=f.read()\n",
    "        lst=list(x)\n",
    "        for i in lst:\n",
    "            if(i.isdecimal()):\n",
    "                c=c+1;\n",
    "    return c\n",
    "print(countCharacter(\"Aqours.txt\"))"
   ]
  },
  {
   "cell_type": "code",
   "execution_count": 43,
   "metadata": {},
   "outputs": [
    {
     "name": "stdout",
     "output_type": "stream",
     "text": [
      "26\n"
     ]
    }
   ],
   "source": [
    "# Function to count the number of special characters from given file\n",
    "\n",
    "def countCharacter(filename):\n",
    "    c=0\n",
    "    low=0\n",
    "    up=0\n",
    "    dec=0\n",
    "    f=open(filename,\"r\")\n",
    "    if f.mode=='r':\n",
    "        x=f.read()\n",
    "        lst=list(x)\n",
    "        for i in lst:\n",
    "            if i.islower():\n",
    "                low=low+1;\n",
    "            elif i.isupper():\n",
    "                up=up+1\n",
    "            elif i.isdecimal():\n",
    "                dec=dec+1\n",
    "          \n",
    "            else:\n",
    "                c=c+1 # here \\n is considered as special character\n",
    "    return c\n",
    "print(countCharacter(\"Aqours.txt\"))"
   ]
  },
  {
   "cell_type": "code",
   "execution_count": 54,
   "metadata": {},
   "outputs": [
    {
     "name": "stdout",
     "output_type": "stream",
     "text": [
      "File is created and Data is written\n",
      "True\n",
      "True\n",
      "True\n",
      "True\n"
     ]
    }
   ],
   "source": [
    "import re\n",
    "def phoneNumberVariable(phone):\n",
    "    pattern='^[6-9][0-9]{9}$|^[0][6-9][0-9]{9}$|^[+][9][1][6-9][0-9]{9}$'\n",
    "    phone=str(phone)\n",
    "    if re.match(pattern,phone):\n",
    "        return True\n",
    "    return False\n",
    "def createFile(filename):\n",
    "    f=open(filename,\"w\")\n",
    "    f.write(\"name: Anant Mishra\")\n",
    "    f.write(\"emailID:anant@domain.com\")\n",
    "    f.write(\"Mobile number: 2345678901\")\n",
    "    print(\"File is created and Data is written\")\n",
    "    f.close()    \n",
    "    return\n",
    "createFile(\"Aqours.txt\")\n",
    "\n",
    "\n",
    "# Validation for EmailID Username@DomainName.extension\n",
    "def validateEmailID(email):\n",
    "    pattern=\"^[0-9a-z][0-9a-z_.]{5,14}[0-9a-z][@][a-z0-9]{3,18}[.][a-z]{2,4}$\"\n",
    "    if re.match(pattern,email):\n",
    "        return True\n",
    "    return False\n",
    "\n",
    "\n",
    "\n",
    "print(phoneNumberVariable(\"+917032653823\"))\n",
    "print(phoneNumberVariable(\"08712345674\"))\n",
    "print(phoneNumberVariable(\"8712345674\"))\n",
    "\n",
    "print(validateEmailID(\"anant.2000@gmail.com\"))\n"
   ]
  },
  {
   "cell_type": "code",
   "execution_count": null,
   "metadata": {},
   "outputs": [],
   "source": []
  }
 ],
 "metadata": {
  "kernelspec": {
   "display_name": "Python 3",
   "language": "python",
   "name": "python3"
  },
  "language_info": {
   "codemirror_mode": {
    "name": "ipython",
    "version": 3
   },
   "file_extension": ".py",
   "mimetype": "text/x-python",
   "name": "python",
   "nbconvert_exporter": "python",
   "pygments_lexer": "ipython3",
   "version": "3.7.3"
  }
 },
 "nbformat": 4,
 "nbformat_minor": 2
}
