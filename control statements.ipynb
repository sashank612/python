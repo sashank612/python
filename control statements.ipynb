{
 "cells": [
  {
   "cell_type": "markdown",
   "metadata": {},
   "source": [
    "# control flow statements\n",
    "\n"
   ]
  },
  {
   "cell_type": "raw",
   "metadata": {},
   "source": [
    "if condition"
   ]
  },
  {
   "cell_type": "code",
   "execution_count": 6,
   "metadata": {},
   "outputs": [
    {
     "name": "stdout",
     "output_type": "stream",
     "text": [
      "the number is less thn 15\n"
     ]
    }
   ],
   "source": [
    "x=10;\n",
    "if(x<15):\n",
    "    print(\"the number is less thn 15\");\n"
   ]
  },
  {
   "cell_type": "markdown",
   "metadata": {},
   "source": [
    "# example 2"
   ]
  },
  {
   "cell_type": "code",
   "execution_count": 7,
   "metadata": {},
   "outputs": [],
   "source": [
    "x=10;\n",
    "if(x>15):\n",
    "    print(\"hello\");"
   ]
  },
  {
   "cell_type": "markdown",
   "metadata": {},
   "source": [
    "# example 3\n",
    "\n"
   ]
  },
  {
   "cell_type": "code",
   "execution_count": 10,
   "metadata": {},
   "outputs": [
    {
     "name": "stdout",
     "output_type": "stream",
     "text": [
      "hello good  morning\n"
     ]
    }
   ],
   "source": [
    "x=10;\n",
    "if(x>15):\n",
    "    print(\"hello good  morning\");\n",
    "else:\n",
    "    print(\"hello good  morning\");"
   ]
  },
  {
   "cell_type": "markdown",
   "metadata": {},
   "source": [
    "# example 4"
   ]
  },
  {
   "cell_type": "markdown",
   "metadata": {},
   "source": [
    "# x and y are inputs find the largest number \n",
    "\n"
   ]
  },
  {
   "cell_type": "code",
   "execution_count": 13,
   "metadata": {},
   "outputs": [
    {
     "name": "stdout",
     "output_type": "stream",
     "text": [
      "enter x=100\n",
      "enter y=0\n",
      "x is greater 100\n"
     ]
    }
   ],
   "source": [
    "x=int(input(\"enter x=\"));\n",
    "y=int(input(\"enter y=\"));\n",
    "if(x>y):\n",
    "    print(\"x is greater\",x);\n",
    "else:\n",
    "    print(\"y is greater\",y);\n"
   ]
  },
  {
   "cell_type": "markdown",
   "metadata": {},
   "source": [
    "# example 5"
   ]
  },
  {
   "cell_type": "markdown",
   "metadata": {},
   "source": [
    "# if 2 nos are same then output is square of 1st no else product of 2nos"
   ]
  },
  {
   "cell_type": "code",
   "execution_count": 15,
   "metadata": {},
   "outputs": [
    {
     "name": "stdout",
     "output_type": "stream",
     "text": [
      "enter x9\n",
      "enter y9\n",
      "square is 81\n"
     ]
    }
   ],
   "source": [
    "x=int(input(\"enter x\"));\n",
    "y=int(input(\"enter y\"));\n",
    "if(x==y):\n",
    "    sum=x**2;\n",
    "    print(\"square is\",sum);\n",
    "else:\n",
    "    sum=x*y;\n",
    "    print(\"product is\",sum);"
   ]
  },
  {
   "cell_type": "markdown",
   "metadata": {},
   "source": [
    "# example 6"
   ]
  },
  {
   "cell_type": "markdown",
   "metadata": {},
   "source": [
    "# one input check zero /positive/negative"
   ]
  },
  {
   "cell_type": "code",
   "execution_count": 1,
   "metadata": {},
   "outputs": [
    {
     "name": "stdout",
     "output_type": "stream",
     "text": [
      "enter x345\n",
      "it is positive\n"
     ]
    }
   ],
   "source": [
    "x=int(input(\"enter x\"));\n",
    "if(x==0):\n",
    "    print(\"it is zero\");\n",
    "elif(x>0):\n",
    "    print(\"it is positive\");\n",
    "else:\n",
    "    print(\"it is naegative\");\n",
    "    "
   ]
  },
  {
   "cell_type": "markdown",
   "metadata": {},
   "source": [
    "# loops"
   ]
  },
  {
   "cell_type": "markdown",
   "metadata": {},
   "source": [
    "# While loop"
   ]
  },
  {
   "cell_type": "code",
   "execution_count": 2,
   "metadata": {},
   "outputs": [
    {
     "name": "stdout",
     "output_type": "stream",
     "text": [
      "1\n",
      "2\n",
      "3\n",
      "4\n",
      "5\n",
      "6\n",
      "7\n",
      "8\n",
      "9\n",
      "10\n"
     ]
    }
   ],
   "source": [
    "n=1;\n",
    "while(n<=10):\n",
    "    print(n);\n",
    "    n=n+1;"
   ]
  },
  {
   "cell_type": "markdown",
   "metadata": {},
   "source": [
    "# Factorial"
   ]
  },
  {
   "cell_type": "markdown",
   "metadata": {},
   "source": []
  },
  {
   "cell_type": "code",
   "execution_count": null,
   "metadata": {},
   "outputs": [],
   "source": []
  },
  {
   "cell_type": "code",
   "execution_count": null,
   "metadata": {},
   "outputs": [],
   "source": []
  },
  {
   "cell_type": "code",
   "execution_count": 2,
   "metadata": {},
   "outputs": [
    {
     "name": "stdout",
     "output_type": "stream",
     "text": [
      "enter x5\n",
      "factorial is 120\n"
     ]
    }
   ],
   "source": [
    "x=int(input(\"enter x\"));\n",
    "i=x;\n",
    "fact=1;\n",
    "while(i>0):\n",
    "    fact=fact*i;\n",
    "    i=i-1;\n",
    "print(\"factorial is\",fact);"
   ]
  },
  {
   "cell_type": "markdown",
   "metadata": {},
   "source": [
    "# Example 2\n",
    "  Print numbers from 10 to 1"
   ]
  },
  {
   "cell_type": "code",
   "execution_count": 3,
   "metadata": {},
   "outputs": [
    {
     "name": "stdout",
     "output_type": "stream",
     "text": [
      "10\n",
      "9\n",
      "8\n",
      "7\n",
      "6\n",
      "5\n",
      "4\n",
      "3\n",
      "2\n",
      "1\n"
     ]
    }
   ],
   "source": [
    "n=10;\n",
    "while(n>0):\n",
    "    print(n);\n",
    "    n=n-1;"
   ]
  },
  {
   "cell_type": "markdown",
   "metadata": {},
   "source": [
    "# Example 3\n",
    "print numbers from -22 to -44"
   ]
  },
  {
   "cell_type": "code",
   "execution_count": 4,
   "metadata": {},
   "outputs": [
    {
     "name": "stdout",
     "output_type": "stream",
     "text": [
      "-22\n",
      "-23\n",
      "-24\n",
      "-25\n",
      "-26\n",
      "-27\n",
      "-28\n",
      "-29\n",
      "-30\n",
      "-31\n",
      "-32\n",
      "-33\n",
      "-34\n",
      "-35\n",
      "-36\n",
      "-37\n",
      "-38\n",
      "-39\n",
      "-40\n",
      "-41\n",
      "-42\n",
      "-43\n",
      "-44\n"
     ]
    }
   ],
   "source": [
    "n=-22;\n",
    "while(n>=-44):\n",
    "    print(n);\n",
    "    n=n-1;"
   ]
  },
  {
   "cell_type": "markdown",
   "metadata": {},
   "source": [
    "# Example 4\n",
    "Print sum of even numbers between 1  to 100\n"
   ]
  },
  {
   "cell_type": "code",
   "execution_count": 6,
   "metadata": {},
   "outputs": [
    {
     "name": "stdout",
     "output_type": "stream",
     "text": [
      "sum of even numbers = 2450\n"
     ]
    }
   ],
   "source": [
    "n=1;\n",
    "sum=0;\n",
    "while(n<100):\n",
    "    if(n%2==0):\n",
    "        sum=sum+n;\n",
    "    n=n+1;\n",
    "print(\"sum of even numbers =\",sum);"
   ]
  },
  {
   "cell_type": "markdown",
   "metadata": {},
   "source": [
    "# Example 5\n",
    "Input is a number, output is extract the digits from right side"
   ]
  },
  {
   "cell_type": "code",
   "execution_count": 4,
   "metadata": {},
   "outputs": [
    {
     "name": "stdout",
     "output_type": "stream",
     "text": [
      "enter x987654321\n",
      "1\n",
      "2\n",
      "3\n",
      "4\n",
      "5\n",
      "6\n",
      "7\n",
      "8\n",
      "9\n"
     ]
    }
   ],
   "source": [
    "x=int(input(\"enter x\"));\n",
    "i=1;\n",
    "while(x!=0):\n",
    "    r=x%10;\n",
    "    print(r);\n",
    "    x=x//10;\n",
    "    i=i+1;\n",
    "    \n",
    "    "
   ]
  },
  {
   "cell_type": "markdown",
   "metadata": {},
   "source": [
    "# Example 6\n",
    "input is a number ,output is sum of even digits\n"
   ]
  },
  {
   "cell_type": "code",
   "execution_count": 3,
   "metadata": {},
   "outputs": [
    {
     "name": "stdout",
     "output_type": "stream",
     "text": [
      "enter x24682468\n",
      "sum of even digits= 40\n"
     ]
    }
   ],
   "source": [
    "x=int(input(\"enter x\"));\n",
    "i=0;\n",
    "sum=0;\n",
    "while(x!=0):\n",
    "    r=x%10;\n",
    "    if(r%2==0):\n",
    "        sum=sum+r;\n",
    "    x=x//10;\n",
    "    i=i+1;\n",
    "print(\"sum of even digits=\",sum);"
   ]
  },
  {
   "cell_type": "markdown",
   "metadata": {},
   "source": [
    "# Example 7\n",
    "Input is a number ,output is respective name to digit"
   ]
  },
  {
   "cell_type": "code",
   "execution_count": 15,
   "metadata": {},
   "outputs": [
    {
     "name": "stdout",
     "output_type": "stream",
     "text": [
      "enter x543\n",
      "Three \n",
      "Four \n",
      "Five \n"
     ]
    }
   ],
   "source": [
    "x=int(input(\"enter x\"));\n",
    "i=0;\n",
    "while(x!=0):\n",
    "    r=x%10;\n",
    "    if(r==0):\n",
    "        print(\"zero\");\n",
    "            \n",
    "    elif(r==1):\n",
    "            print(\"One \");\n",
    "    elif(r==2):\n",
    "            print(\"Two \");\n",
    "    elif(r==3):\n",
    "            print(\"Three \");\n",
    "    elif(r==4):\n",
    "            print(\"Four \");\n",
    "    elif(r==5):\n",
    "            print(\"Five \");\n",
    "    elif(r==6):\n",
    "            print(\"Six \");   \n",
    "    elif(r==7):\n",
    "            print(\"Seven \");\n",
    "    elif(r==8):\n",
    "            print(\"Eight \");\n",
    "    elif(r==9):\n",
    "            print(\"Nine \");\n",
    "    x=x//10;\n",
    "    i=i+1;"
   ]
  },
  {
   "cell_type": "markdown",
   "metadata": {},
   "source": [
    "# Example 8\n",
    "input is three nos ,output is how many times the digit is repeated between 2nd and 3rd number"
   ]
  },
  {
   "cell_type": "code",
   "execution_count": 3,
   "metadata": {},
   "outputs": [
    {
     "name": "stdout",
     "output_type": "stream",
     "text": [
      "enter a number=2\n",
      "enter l1=120\n",
      "enter l2=220\n",
      "40\n"
     ]
    }
   ],
   "source": [
    "d=int(input(\"enter a number=\"));\n",
    "l1=int(input(\"enter l1=\"));\n",
    "l2=int(input(\"enter l2=\"));\n",
    "c=0;\n",
    "while(l1!=l2):\n",
    "    b=l1;\n",
    "    while(l1!=0):\n",
    "        r=l1%10;\n",
    "        if(r==d):\n",
    "            c=c+1;\n",
    "        l1=l1//10;\n",
    "    l1=b;   \n",
    "    l1=l1+1;\n",
    "print(c);"
   ]
  },
  {
   "cell_type": "markdown",
   "metadata": {},
   "source": []
  },
  {
   "cell_type": "code",
   "execution_count": null,
   "metadata": {},
   "outputs": [],
   "source": []
  },
  {
   "cell_type": "code",
   "execution_count": null,
   "metadata": {},
   "outputs": [],
   "source": []
  }
 ],
 "metadata": {
  "kernelspec": {
   "display_name": "Python 3",
   "language": "python",
   "name": "python3"
  },
  "language_info": {
   "codemirror_mode": {
    "name": "ipython",
    "version": 3
   },
   "file_extension": ".py",
   "mimetype": "text/x-python",
   "name": "python",
   "nbconvert_exporter": "python",
   "pygments_lexer": "ipython3",
   "version": "3.7.3"
  }
 },
 "nbformat": 4,
 "nbformat_minor": 2
}
