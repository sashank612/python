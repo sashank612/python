{
 "cells": [
  {
   "cell_type": "markdown",
   "metadata": {},
   "source": [
    "# Data structures"
   ]
  },
  {
   "cell_type": "markdown",
   "metadata": {},
   "source": [
    "Linear search"
   ]
  },
  {
   "cell_type": "code",
   "execution_count": 9,
   "metadata": {},
   "outputs": [
    {
     "name": "stdout",
     "output_type": "stream",
     "text": [
      "t not found\n"
     ]
    }
   ],
   "source": [
    "def linearSearch(a,t):\n",
    "    flag=0;\n",
    "    for i in range(len(a)):\n",
    "        if a[i]==t:\n",
    "            flag=1;\n",
    "            break;\n",
    "    if(flag!=0):\n",
    "        print(\" t is found\");\n",
    "    else:\n",
    "        print(\"t not found\")\n",
    "        \n",
    "a=[1,6,9,5,2,8]\n",
    "linearSearch(a,100);"
   ]
  },
  {
   "cell_type": "code",
   "execution_count": 13,
   "metadata": {},
   "outputs": [
    {
     "name": "stdout",
     "output_type": "stream",
     "text": [
      "4\n"
     ]
    }
   ],
   "source": [
    "def linearDuplicateSearch(a,t):\n",
    "    flag=0;\n",
    "    for i in range(len(a)):\n",
    "        if a[i]==t:\n",
    "            flag=flag+1;\n",
    "    print(flag)\n",
    "        \n",
    "    \n",
    "    \n",
    "a=[1,6,1,9,5,1,2,8,1]\n",
    "linearDuplicateSearch(a,1);"
   ]
  },
  {
   "cell_type": "code",
   "execution_count": 15,
   "metadata": {},
   "outputs": [
    {
     "name": "stdout",
     "output_type": "stream",
     "text": [
      "2 3 4 5 6 6 "
     ]
    }
   ],
   "source": [
    "a=[1,2,3,4,5,6]\n",
    "for i in range(1,6):\n",
    "    a[i-1]=a[i];\n",
    "for i in range(0,6):   \n",
    "    print(a[i],end=\" \");"
   ]
  },
  {
   "cell_type": "markdown",
   "metadata": {},
   "source": [
    " print the index of the target item"
   ]
  },
  {
   "cell_type": "code",
   "execution_count": 1,
   "metadata": {},
   "outputs": [
    {
     "name": "stdout",
     "output_type": "stream",
     "text": [
      "0 2 6 "
     ]
    }
   ],
   "source": [
    "def linearExample(a,t):\n",
    "    for i in range(len(a)):\n",
    "        if(a[i]==t):\n",
    "            print(i,end=\" \");\n",
    "            \n",
    "a=[11,22,11,33,44,55,11,66,77,88]\n",
    "linearExample(a,11)"
   ]
  },
  {
   "cell_type": "raw",
   "metadata": {},
   "source": [
    " list is input and output is sequence of characters"
   ]
  },
  {
   "cell_type": "code",
   "execution_count": 6,
   "metadata": {},
   "outputs": [
    {
     "name": "stdout",
     "output_type": "stream",
     "text": [
      "! !  \n",
      "! ! ! ! !  \n",
      "! ! ! ! ! ! ! !  \n"
     ]
    }
   ],
   "source": [
    "def linearexample(a,taritem):\n",
    "    for i in range(len(a)):\n",
    "        if(a[i]==taritem):\n",
    "            j=0;\n",
    "            while j!=i+1:\n",
    "                 print(\"!\",end=\" \");\n",
    "                 j=j+1\n",
    "            print(\" \")\n",
    "a=[1,5,9,6,5,15,12,5]\n",
    "linearexample(a,5)"
   ]
  },
  {
   "cell_type": "raw",
   "metadata": {},
   "source": [
    "Input:List Output:As per the given\n",
    "\n",
    "Test cases:\n",
    "[15,12,2,9,18,36,45]\n",
    "\n",
    "A list item should be perfect multiple of 3 and 5\n",
    "Sum of all the list items which is perfect multiple of 3 and 5"
   ]
  },
  {
   "cell_type": "code",
   "execution_count": 7,
   "metadata": {},
   "outputs": [
    {
     "data": {
      "text/plain": [
       "60"
      ]
     },
     "execution_count": 7,
     "metadata": {},
     "output_type": "execute_result"
    }
   ],
   "source": [
    "def linearexample(a):\n",
    "    sum=0\n",
    "    for i in range(len(a)):\n",
    "        if(a[i]%3==0 and a[i]%5==0):\n",
    "                 sum=sum+a[i];\n",
    "    return sum\n",
    "\n",
    "a=[15,12,2,9,18,36,45]   \n",
    "linearexample(a)"
   ]
  },
  {
   "cell_type": "raw",
   "metadata": {},
   "source": [
    "input:list\n",
    "output:formatted output\n",
    "test cases:\n",
    "[1,2,3,4,5]----1 3 8 15 5"
   ]
  },
  {
   "cell_type": "code",
   "execution_count": 10,
   "metadata": {},
   "outputs": [
    {
     "name": "stdout",
     "output_type": "stream",
     "text": [
      "1 3 8 15 5 "
     ]
    }
   ],
   "source": [
    "def linearexample(a):\n",
    "    for i in range(len(a)):\n",
    "        if i==0 or i==(len(a)-1):\n",
    "            print(a[i],end=\" \")\n",
    "        else:\n",
    "             print(a[i-1]*a[i+1],end=\" \")\n",
    "    \n",
    "    \n",
    "    \n",
    "a=[1,2,3,4,5]\n",
    "linearexample(a)"
   ]
  },
  {
   "cell_type": "raw",
   "metadata": {},
   "source": [
    "Input:list\n",
    "output:formatted output\n",
    "Test cases:\n",
    "[1,6,9,4,16,19,22] -- 1 9 19 22"
   ]
  },
  {
   "cell_type": "code",
   "execution_count": 11,
   "metadata": {},
   "outputs": [
    {
     "name": "stdout",
     "output_type": "stream",
     "text": [
      "1 9 19 22 "
     ]
    }
   ],
   "source": [
    "def linearFormattedoutput(a):\n",
    "    for i in range(len(a)):\n",
    "        if i==0 or (i==len(a)-1):\n",
    "            print(a[i],end=\" \");\n",
    "        elif(a[i-1]%2==0 and a[i+1]%2==0):\n",
    "            print(a[i],end=\" \")\n",
    "            \n",
    "a=[1,6,9,4,16,19,22];\n",
    "linearFormattedoutput(a);"
   ]
  },
  {
   "cell_type": "raw",
   "metadata": {},
   "source": [
    "Input: a number Output:list\n",
    "\n",
    "Test cases:\n",
    "14569--[1,4,5,6,9]\n",
    "1974--[1,9,7,4]"
   ]
  },
  {
   "cell_type": "code",
   "execution_count": 1,
   "metadata": {},
   "outputs": [
    {
     "name": "stdout",
     "output_type": "stream",
     "text": [
      "enter a number156789\n",
      "[1, 5, 6, 7, 8, 9]\n"
     ]
    }
   ],
   "source": [
    "def numbertolistconversion(n):\n",
    "    lst=[]\n",
    "    while n!=0:\n",
    "        r=n%10\n",
    "        lst.append(r)\n",
    "        n=n//10\n",
    "    lst.reverse()\n",
    "    print(lst)\n",
    "    \n",
    "n=int(input(\"enter a number\"))\n",
    "numbertolistconversion(n)\n",
    "        "
   ]
  },
  {
   "cell_type": "raw",
   "metadata": {},
   "source": [
    "list to number conversion                                                                                         \n",
    "1.[1,4,5,6,9]--14569                                                                                                  \n",
    "2.[1,4,5,6,9]--46(you have consider only even in the list)                                                                \n",
    "3.14569--[4,6](you have consider only even digit to list) Objective     \n",
    "4.[1,2,3,4,5]--[1,4,3,16,5 ]    \n",
    "5.[15,19,12,16,4]--[15,34,31,28,4]  \n",
    "        "
   ]
  },
  {
   "cell_type": "code",
   "execution_count": 2,
   "metadata": {},
   "outputs": [
    {
     "name": "stdout",
     "output_type": "stream",
     "text": [
      "1\n",
      "4\n",
      "5\n",
      "6\n",
      "9\n"
     ]
    }
   ],
   "source": [
    "# Python3 program to convert a list \n",
    "# of integers into a single integer \n",
    "\n",
    "# creating a list \n",
    "lst = [1,4,5,6,9] \n",
    "\n",
    "# iterating each element \n",
    "for i in lst: \n",
    "   print(i)\n"
   ]
  },
  {
   "cell_type": "raw",
   "metadata": {},
   "source": [
    "[1,4,5,6,9]--46(you have consider only even in the list)"
   ]
  },
  {
   "cell_type": "code",
   "execution_count": 3,
   "metadata": {},
   "outputs": [
    {
     "name": "stdout",
     "output_type": "stream",
     "text": [
      "6\n",
      "4\n",
      "16\n",
      "22\n"
     ]
    }
   ],
   "source": [
    "def linearexample(a):\n",
    "    for i in range(len(a)):        \n",
    "        if(a[i]%2==0):\n",
    "            print(a[i])\n",
    "            \n",
    "a=[1,6,9,4,16,19,22]\n",
    "linearexample(a) "
   ]
  },
  {
   "cell_type": "raw",
   "metadata": {},
   "source": [
    "14569--[4,6](you have consider only even digit to list) Objective"
   ]
  },
  {
   "cell_type": "code",
   "execution_count": null,
   "metadata": {},
   "outputs": [],
   "source": [
    "def numbertolistconversion(n):\n",
    "    lst=[]\n",
    "    while n!=0 and n%2==0:\n",
    "        r=n%10\n",
    "        lst.append(r)\n",
    "        n=n//10\n",
    "    lst.reverse()\n",
    "    print(lst,)\n",
    "    \n",
    "n=int(input(\"enter a number\"))\n",
    "numbertolistconversion(n)"
   ]
  },
  {
   "cell_type": "raw",
   "metadata": {},
   "source": [
    "[1,2,3,4,5]--[1,4,3,16,5 ]  "
   ]
  },
  {
   "cell_type": "code",
   "execution_count": 3,
   "metadata": {},
   "outputs": [
    {
     "name": "stdout",
     "output_type": "stream",
     "text": [
      "4 16 36 64 "
     ]
    }
   ],
   "source": [
    "def linearexample(a):\n",
    "    for i in range(len(a)):        \n",
    "        if(i%2!=0):\n",
    "            print(a[i]**2,end=\" \")\n",
    "            \n",
    "a=[1,2,3,4,5,6,7,8,9]\n",
    "linearexample(a) "
   ]
  },
  {
   "cell_type": "raw",
   "metadata": {},
   "source": [
    "[15,19,12,16,4]--[15,34,31,28,4]"
   ]
  },
  {
   "cell_type": "code",
   "execution_count": 18,
   "metadata": {},
   "outputs": [
    {
     "name": "stdout",
     "output_type": "stream",
     "text": [
      "15\n",
      "34\n",
      "31\n",
      "28\n",
      "4\n"
     ]
    }
   ],
   "source": [
    "def linearexample(a):\n",
    "    for i in range(len(a)):        \n",
    "        if(i==0 or i==len(a)-1):\n",
    "            print(a[i]);\n",
    "        elif(i<(len(a)-1)):\n",
    "            print(a[i-1]+a[i])\n",
    "a=[15,19,12,16,4]\n",
    "linearexample(a)"
   ]
  },
  {
   "cell_type": "code",
   "execution_count": null,
   "metadata": {},
   "outputs": [],
   "source": []
  }
 ],
 "metadata": {
  "kernelspec": {
   "display_name": "Python 3",
   "language": "python",
   "name": "python3"
  },
  "language_info": {
   "codemirror_mode": {
    "name": "ipython",
    "version": 3
   },
   "file_extension": ".py",
   "mimetype": "text/x-python",
   "name": "python",
   "nbconvert_exporter": "python",
   "pygments_lexer": "ipython3",
   "version": "3.7.3"
  }
 },
 "nbformat": 4,
 "nbformat_minor": 2
}
