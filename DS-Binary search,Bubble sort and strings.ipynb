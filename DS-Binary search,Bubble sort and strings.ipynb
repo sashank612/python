{
 "cells": [
  {
   "cell_type": "markdown",
   "metadata": {},
   "source": [
    "# Binary search\n",
    "\n",
    "can be applied on sorted list<br>\n",
    "can be applied on unique list<br>"
   ]
  },
  {
   "cell_type": "code",
   "execution_count": 8,
   "metadata": {},
   "outputs": [
    {
     "name": "stdout",
     "output_type": "stream",
     "text": [
      "position of element is 5\n",
      "element found \n"
     ]
    }
   ],
   "source": [
    "def binSearch(a,l,r,k):\n",
    "    while(l<=r):\n",
    "        m=l+(r-l)//2;\n",
    "        if(a[m]==k):\n",
    "            print(\"position of element is\",m);\n",
    "            return m;\n",
    "        elif(a[m]>k):\n",
    "            r=m-1;\n",
    "        else:\n",
    "            l=m+1;\n",
    "    return -1;\n",
    "list=[1,4,6,9,11,33,66,99];\n",
    "res=binSearch(list,0,7,33);\n",
    "if(res!=1):\n",
    "    print(\"element found \");\n",
    "else:\n",
    "    print(\"element not found\");"
   ]
  },
  {
   "cell_type": "markdown",
   "metadata": {},
   "source": [
    "# Bubble sort\n",
    " Pairwise adjacency comparision<br>\n",
    " Time complexity = O(n^2)"
   ]
  },
  {
   "cell_type": "code",
   "execution_count": 13,
   "metadata": {},
   "outputs": [
    {
     "name": "stdout",
     "output_type": "stream",
     "text": [
      "1 2 17 19 22 44 44 66 88 88 [1, 2, 17, 19, 22, 44, 44, 66, 88, 88]\n"
     ]
    }
   ],
   "source": [
    "def bubbleSort(a):\n",
    "    for i in range(len(a)-1):\n",
    "        for j in range(len(a)-1):\n",
    "            if(a[j]>a[j+1]):\n",
    "                a[j],a[j+1]=a[j+1],a[j];\n",
    "    for i in range(len(a)):\n",
    "        print(a[i],end=\" \");\n",
    "        \n",
    "list=[19,2,1,17,88,44,22,88,44,66]\n",
    "bubbleSort(list)\n",
    "list.sort();\n",
    "print(list)"
   ]
  },
  {
   "cell_type": "markdown",
   "metadata": {},
   "source": [
    "# Strings in python\n",
    "A String is a sequence of characters <br>\n",
    "The conversion of character to a number is happens with ASCII number<br>\n",
    "ASCII  Numbers<br>\n",
    "  \n",
    "A-Z-----------65-90<br>\n",
    "a-z-----------97-122<br>\n",
    "0-9-----------48-57<br>"
   ]
  },
  {
   "cell_type": "code",
   "execution_count": 17,
   "metadata": {},
   "outputs": [
    {
     "name": "stdout",
     "output_type": "stream",
     "text": [
      "Application\n",
      "Application\n",
      "Application test \n",
      "working completed\n",
      "in python\n"
     ]
    }
   ],
   "source": [
    "# creating a string\n",
    "str='Application'\n",
    "print(str)\n",
    "\n",
    "str1=\"Application\"\n",
    "print(str1)\n",
    "\n",
    "str2=\"\"\"Application test \n",
    "working completed\n",
    "in python\"\"\"\n",
    "print(str2)"
   ]
  },
  {
   "cell_type": "code",
   "execution_count": 34,
   "metadata": {},
   "outputs": [
    {
     "name": "stdout",
     "output_type": "stream",
     "text": [
      "manikumar\n",
      "str[0]= m\n",
      "str[1]= a\n",
      "str[2]= n\n",
      "str[-1]= r\n",
      "str[-2]= a\n",
      "str[1:5]= anik\n",
      "str[:5]= manik\n",
      "str[:-5]= mani\n",
      "str[5:-2]= um\n",
      "str[::-1]= ramukinam\n"
     ]
    }
   ],
   "source": [
    "str=\"manikumar\";\n",
    "print(str);\n",
    "print(\"str[0]=\",str[0])\n",
    "print(\"str[1]=\",str[1])\n",
    "print(\"str[2]=\",str[2])\n",
    "print(\"str[-1]=\",str[-1])\n",
    "print(\"str[-2]=\",str[-2])\n",
    "print(\"str[1:5]=\",str[1:5])\n",
    "print(\"str[:5]=\",str[:5])\n",
    "print(\"str[:-5]=\",str[:-5])\n",
    "print(\"str[5:-2]=\",str[5:-2])\n",
    "print(\"str[::-1]=\",str[::-1]) #reverse of a string\n",
    "\n"
   ]
  },
  {
   "cell_type": "markdown",
   "metadata": {},
   "source": [
    "# palindrome of string\n"
   ]
  },
  {
   "cell_type": "code",
   "execution_count": 15,
   "metadata": {
    "scrolled": true
   },
   "outputs": [
    {
     "name": "stdout",
     "output_type": "stream",
     "text": [
      "True\n",
      "True\n",
      "False\n"
     ]
    }
   ],
   "source": [
    "def isPalindrome(s):\n",
    "    if s==s[::-1]:\n",
    "        return True\n",
    "    else:\n",
    "        return False\n",
    "print(isPalindrome(\"madam\"))\n",
    "print(isPalindrome(\"malayalam\"))\n",
    "print(isPalindrome(\"python\"))"
   ]
  },
  {
   "cell_type": "markdown",
   "metadata": {},
   "source": [
    "# count the digits of a number"
   ]
  },
  {
   "cell_type": "code",
   "execution_count": 17,
   "metadata": {
    "scrolled": true
   },
   "outputs": [
    {
     "name": "stdout",
     "output_type": "stream",
     "text": [
      "enter a number12345\n",
      "5\n"
     ]
    }
   ],
   "source": [
    "n=int(input(\"enter a number\"));\n",
    "c=0;\n",
    "while(n!=0):\n",
    "    c=c+1;\n",
    "    n=n//10;\n",
    "print(c)"
   ]
  },
  {
   "cell_type": "markdown",
   "metadata": {},
   "source": [
    "# count the digits of a number---string length function"
   ]
  },
  {
   "cell_type": "code",
   "execution_count": 1,
   "metadata": {},
   "outputs": [
    {
     "data": {
      "text/plain": [
       "5"
      ]
     },
     "execution_count": 1,
     "metadata": {},
     "output_type": "execute_result"
    }
   ],
   "source": [
    "def countLength(n):\n",
    "    return(len(n))\n",
    "countLength(\"25410\")"
   ]
  },
  {
   "cell_type": "markdown",
   "metadata": {},
   "source": [
    "# conversion of string to upper case"
   ]
  },
  {
   "cell_type": "code",
   "execution_count": 2,
   "metadata": {},
   "outputs": [
    {
     "data": {
      "text/plain": [
       "6"
      ]
     },
     "execution_count": 2,
     "metadata": {},
     "output_type": "execute_result"
    }
   ],
   "source": [
    "#string - converts -list - len of list\n",
    "\n",
    "def count(str):\n",
    "    lst=list(str);\n",
    "    return len(lst)\n",
    "count(\"aqours\")\n",
    "    "
   ]
  },
  {
   "cell_type": "code",
   "execution_count": 6,
   "metadata": {},
   "outputs": [
    {
     "name": "stdout",
     "output_type": "stream",
     "text": [
      "2\n",
      "6\n"
     ]
    }
   ],
   "source": [
    "def countUppercase(str):\n",
    "    c=0;\n",
    "    lst=list(str);\n",
    "    for x in range(len(lst)):\n",
    "        if ord(lst[x])>=65 and ord(lst[x])<=90:\n",
    "            c=c+1;\n",
    "    return c;\n",
    "\n",
    "print(countUppercase(\"ApplicAtion\"));\n",
    "print(countUppercase(\"MANIkuMaR\"))"
   ]
  },
  {
   "cell_type": "code",
   "execution_count": 6,
   "metadata": {},
   "outputs": [
    {
     "name": "stdout",
     "output_type": "stream",
     "text": [
      "799\n",
      "143\n"
     ]
    }
   ],
   "source": [
    "def countUppercase(str):\n",
    "    lst=list(str)\n",
    "    s=''\n",
    "    for x in lst:\n",
    "        if x.isdecimal():\n",
    "            s+=x\n",
    "    return s\n",
    "\n",
    "print(countUppercase(\"7Ap9pli9cAtion\"));\n",
    "print(countUppercase(\"i1love4you3\"));"
   ]
  },
  {
   "cell_type": "code",
   "execution_count": 7,
   "metadata": {},
   "outputs": [
    {
     "name": "stdout",
     "output_type": "stream",
     "text": [
      "1889"
     ]
    }
   ],
   "source": [
    "\n",
    "def printDigits(str):\n",
    "        lst=list(str)\n",
    "        for x in range(len(lst)):\n",
    "            \n",
    "            if ord(lst[x])>=48 and ord(lst[x])<=57:\n",
    "                print(lst[x],end=\"\")\n",
    "printDigits(\"Application1889\")#1889"
   ]
  },
  {
   "cell_type": "code",
   "execution_count": 8,
   "metadata": {
    "scrolled": true
   },
   "outputs": [
    {
     "data": {
      "text/plain": [
       "26"
      ]
     },
     "execution_count": 8,
     "metadata": {},
     "output_type": "execute_result"
    }
   ],
   "source": [
    "def sumofDigits(str):\n",
    "    sum=0\n",
    "    lst=list(str)\n",
    "    for x in range(len(lst)):\n",
    "        if ord(lst[x])>=48 and ord(lst[x])<=57:\n",
    "            sum=sum+ord(lst[x])-48;\n",
    "    return sum\n",
    "sumofDigits(\"Application1889\")\n",
    "           "
   ]
  },
  {
   "cell_type": "markdown",
   "metadata": {},
   "source": [
    "#sum of even digit sof given string"
   ]
  },
  {
   "cell_type": "code",
   "execution_count": 3,
   "metadata": {},
   "outputs": [
    {
     "name": "stdout",
     "output_type": "stream",
     "text": [
      "10\n",
      "0\n"
     ]
    }
   ],
   "source": [
    "def sumofDigits(str):\n",
    "    sum=0\n",
    "    lst=list(str)\n",
    "    for x in range(len(lst)):\n",
    "        if ord(lst[x])>=48 and ord(lst[x])<=57:\n",
    "            if(ord(lst[x]))%2==0:\n",
    "                  sum=sum+ord(lst[x])-48;\n",
    "          \n",
    "    return sum\n",
    "\n",
    "print(sumofDigits(\"work7852ing\"))\n",
    "print(sumofDigits(\"Application1591\"))"
   ]
  },
  {
   "cell_type": "code",
   "execution_count": 1,
   "metadata": {},
   "outputs": [
    {
     "name": "stdout",
     "output_type": "stream",
     "text": [
      "enter the stringmanikumar\n",
      "MANIKUMAR\n"
     ]
    }
   ],
   "source": [
    "#string character conversion\n",
    "##If the input character is Upper case character and convert lower case\n",
    "##If input character is lower case and then\n",
    "#test cases\n",
    "##AppLICation---aPPlicATION\n",
    "##TesT---tESt\n",
    "\n",
    "s=input('enter the string')\n",
    "\n",
    "print(s.swapcase())\n",
    "\n"
   ]
  },
  {
   "cell_type": "markdown",
   "metadata": {},
   "source": [
    "# String only specific word in Upper case/lower case\n",
    "Test cases<br>\n",
    "Application test woring---TEST<br>\n",
    "Python is Easy-----IS<br>"
   ]
  },
  {
   "cell_type": "markdown",
   "metadata": {},
   "source": []
  },
  {
   "cell_type": "code",
   "execution_count": null,
   "metadata": {},
   "outputs": [],
   "source": []
  }
 ],
 "metadata": {
  "kernelspec": {
   "display_name": "Python 3",
   "language": "python",
   "name": "python3"
  },
  "language_info": {
   "codemirror_mode": {
    "name": "ipython",
    "version": 3
   },
   "file_extension": ".py",
   "mimetype": "text/x-python",
   "name": "python",
   "nbconvert_exporter": "python",
   "pygments_lexer": "ipython3",
   "version": "3.7.3"
  }
 },
 "nbformat": 4,
 "nbformat_minor": 2
}
